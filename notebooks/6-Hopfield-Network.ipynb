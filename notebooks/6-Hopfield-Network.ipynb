{
 "cells": [
  {
   "cell_type": "code",
   "execution_count": 115,
   "metadata": {
    "tags": [
     "hide-input"
    ]
   },
   "outputs": [],
   "source": [
    "import numpy as np\n",
    "import matplotlib.pyplot as plt\n",
    "\n",
    "from copy import deepcopy\n",
    "\n",
    "import copy"
   ]
  },
  {
   "cell_type": "markdown",
   "metadata": {},
   "source": [
    "# **The Hopfield Network**\n",
    "\n",
    "**A Hopfield Network is a type of recurrent artificial neural network** that serves as a content-addressable memory system, meaning it can recall stored patterns from incomplete or noisy inputs. Introduced by John Hopfield in 1982 (but very similar ideas were already proposed by Kaoru Nakano in 1971 and Shun'ichi Amari in 1972), these networks are composed of a single layer of interconnected neurons, where each neuron is both an input and output, and connections between them are symmetric; for his foundational contributions to machine learning Hopfield has been awarded the 2024 Nobel Prize in Physics shared with Geoffrey Hinton.  \n",
    "\n",
    "Hopfield networks store a set of memories $\\{ X_i^{(\\mu)} \\}$ for $\\mu \\in [1, p]$ and $i \\in [1, N]$, where $N$ is the number of pixels of a pattern and $p$ is the number of stored patterns.\n"
   ]
  },
  {
   "cell_type": "markdown",
   "metadata": {},
   "source": [
    "In this notebook, **we will define a Python Class to initialise, evolve and visualise Hopfield Networks**. After writing this class, we will test some fundamental results of these networks, like the stability of its fixed points (i.e. the stored patterns). In the final part of the notebook a refined and modern version of the Hopfield Network will be introduced, that will allow us to obtain satisfying results also with more complex patterns. But first..."
   ]
  },
  {
   "cell_type": "markdown",
   "metadata": {},
   "source": [
    "# A brief introduction to Python Classes \n",
    "\n",
    "We want to create a class called 'Hopfield Network' that initialise such a network and implements a variety of useful functions. In a nutshell, a class is a structure that holds together data and functions (called methods).\n",
    "\n",
    "Classes can be a bit confusing at the beginning, but all you need to understand is that self means literary 'myself', that is, methods (functions) get as first argument the object they are acting on. This means that we can \"store\" a variable in one method and \"retrieve\" it in another! No need to pass it around!\n",
    "\n",
    "Look at the following example code and play with it to make sure you understand how classes works."
   ]
  },
  {
   "cell_type": "code",
   "execution_count": 27,
   "metadata": {},
   "outputs": [],
   "source": [
    "class Model:\n",
    "    # this is a special method that gets called when you create an instance of your class\n",
    "    def __init__(self, name):\n",
    "        self.name = name\n",
    "    \n",
    "    def set_x(self, x):\n",
    "        self.x = x\n",
    "        \n",
    "    def increment_x(self):\n",
    "        self.x += 1\n",
    "\n",
    "    def show_x(self):\n",
    "        return self.x"
   ]
  },
  {
   "cell_type": "code",
   "execution_count": null,
   "metadata": {},
   "outputs": [],
   "source": [
    "# Initialisation of two models\n",
    "model1 = Model(name=\"my first model\")\n",
    "model2 = Model(name=\"another model\")"
   ]
  },
  {
   "cell_type": "code",
   "execution_count": null,
   "metadata": {},
   "outputs": [],
   "source": [
    "# Using the methods implemented for the class 'Model'\n",
    "model1.set_x(3)\n",
    "model2.set_x(-2)"
   ]
  },
  {
   "cell_type": "code",
   "execution_count": null,
   "metadata": {},
   "outputs": [],
   "source": [
    "model1.show_x()"
   ]
  },
  {
   "cell_type": "markdown",
   "metadata": {},
   "source": [
    "We can also access information stored in our objects. Notice that our models had a name that was set at initialization."
   ]
  },
  {
   "cell_type": "code",
   "execution_count": null,
   "metadata": {},
   "outputs": [],
   "source": [
    "model1.name"
   ]
  },
  {
   "cell_type": "markdown",
   "metadata": {},
   "source": [
    "Spend some time playing with this class by implementing new methods and trying them out."
   ]
  },
  {
   "cell_type": "markdown",
   "metadata": {},
   "source": [
    "# Exercise 6.1"
   ]
  },
  {
   "cell_type": "markdown",
   "metadata": {},
   "source": [
    "Now that you have a basic understanding of Python classes, let's focus on Hopfield Networks. Start by creating 5 random patterns with shape 6x6 that the network will store and visualise them."
   ]
  },
  {
   "cell_type": "code",
   "execution_count": 117,
   "metadata": {},
   "outputs": [],
   "source": [
    "#Create 5 random patterns\n",
    "N_patterns = ...\n",
    "pattern_size = ...\n",
    "# store the pattern in a dictionary\n",
    "random_patterns = {...}\n"
   ]
  },
  {
   "cell_type": "code",
   "execution_count": null,
   "metadata": {},
   "outputs": [],
   "source": [
    "# visualise the patterns\n",
    "fig, ax = ..."
   ]
  },
  {
   "cell_type": "markdown",
   "metadata": {},
   "source": [
    "Let's start to build our HopfieldNetwork class. We start by defining the constructor and implementing a few basic methods that store important information such as:\n",
    "\n",
    "* `HFN.patterns` is a matrix containing all the patterns in their original shape \n",
    "* `HFN.N_neurons` how many neurons the network has \n",
    "* `HFN.flat_patterns` is a matrix of stored _flattened_ patterns with shape *(N_patterns, N_neurons)*.\n",
    "*  ..."
   ]
  },
  {
   "cell_type": "code",
   "execution_count": 121,
   "metadata": {
    "tags": []
   },
   "outputs": [],
   "source": [
    "class HopfieldNetwork:\n",
    "    \"\"\"Base class for our Hopfield Network (Modern) Hopfield Network\"\"\"\n",
    "\n",
    "    def __init__(self, patterns_dict):\n",
    "        \"\"\"Initialises the Hopfield network with a set of patterns.\n",
    "        Args:\n",
    "            • patterns: a dictionary containing the patterns to be stored in the network labeled by their names. Patterns can be any shape, they will be flattened into vectors during initialisation.\n",
    "        \"\"\"\n",
    "        \n",
    "        self.patterns_dict = ... # the entire dictionary\n",
    "        self.pattern_names = ... # the keys of the dictionary\n",
    "        self.patterns = ... # the patterns -> the values of the dictionary\n",
    "        self.pattern_shape = ... # the shape of each pattern\n",
    "        # Some useful variables\n",
    "        self.N_neurons = ...\n",
    "        self.N_patterns = ...\n",
    "        # Flatten the patterns into a matrix of shape (N_patterns, N_neurons)\n",
    "        self.flat_patterns = ...\n",
    "\n",
    "        return"
   ]
  },
  {
   "cell_type": "markdown",
   "metadata": {},
   "source": [
    "Now you can initialise you Hopfield Network! "
   ]
  },
  {
   "cell_type": "code",
   "execution_count": 123,
   "metadata": {},
   "outputs": [],
   "source": [
    "# Call the class you just defined\n",
    "HFN = ... "
   ]
  },
  {
   "cell_type": "markdown",
   "metadata": {},
   "source": [
    "## Exercise 6.2"
   ]
  },
  {
   "cell_type": "markdown",
   "metadata": {},
   "source": [
    "Let's store another important element: the weights matrix. Remember that the weights matrix is defined as $J_{ij} = \\frac{1}{N}\\sum_{\\mu=1}^px_i^{\\mu}x_j^{\\nu}$. \n",
    "\n",
    "We copy the class previously written and we add the new lines; 'self.w' must store the weights matrix, with shape N x N, where N is the number of neurons."
   ]
  },
  {
   "cell_type": "code",
   "execution_count": 129,
   "metadata": {},
   "outputs": [],
   "source": [
    "class HopfieldNetwork:\n",
    "    \"\"\"Base class for our Hopfield Network (Modern) Hopfield Network\"\"\"\n",
    "\n",
    "    def __init__(self, patterns_dict):\n",
    "\n",
    "        #\n",
    "        #\n",
    "        # HERE YOU JUST COPY THE CODE YOU WROTE ABOVE\n",
    "        #\n",
    "        #\n",
    "\n",
    "        # Initialise the weights and state of the network\n",
    "\n",
    "        self.w = ...\n",
    "\n",
    "        return"
   ]
  },
  {
   "cell_type": "code",
   "execution_count": 131,
   "metadata": {},
   "outputs": [],
   "source": [
    "HFN = HopfieldNetwork(random_patterns)"
   ]
  },
  {
   "cell_type": "code",
   "execution_count": null,
   "metadata": {},
   "outputs": [],
   "source": [
    "### You can access and print the stored weights\n",
    "HFN.w"
   ]
  },
  {
   "cell_type": "markdown",
   "metadata": {},
   "source": [
    "## Exercise 6.3\n",
    "We now define two new methods: *set_state* and *update_state*. \n",
    "*set_state* sets the state of the Hopfield network. We want the method to define the state as the pattern provided to the function.\n",
    "If no pattern is provided, we define the state as a random pattern.\n",
    "*update_state* updates the state of the network. The update can be asynchronous (one neuron updated at a time) or synchronous (all neurons updated at once)"
   ]
  },
  {
   "cell_type": "code",
   "execution_count": 136,
   "metadata": {},
   "outputs": [],
   "source": [
    "class HopfieldNetwork:\n",
    "    \"\"\"Base class for our Hopfield Network (Modern) Hopfield Network\"\"\"\n",
    "\n",
    "    def __init__(self, patterns_dict):\n",
    "        \"\"\"Initialises the Hopfield network with a set of patterns.\"\"\"\n",
    "\n",
    "        #\n",
    "        #\n",
    "        # HERE YOU JUST COPY THE CODE YOU WROTE ABOVE\n",
    "        #\n",
    "        #\n",
    "\n",
    "        self.set_state(random=True)  # initialises the state of the network\n",
    "        return\n",
    "\n",
    "    # =================== INITIALISE AND UPDATE NETWORK STATE  ======================\n",
    "    def set_state(self, state=None, random=False):\n",
    "        \"\"\"Sets the state of the Hopfield network. If random = True, sets state to a random vector\"\"\"\n",
    "        if random:\n",
    "            self.state = ...\n",
    "        else:\n",
    "            self.state = ...\n",
    "\n",
    "    def update_state(self, asynchronous=True):\n",
    "        # asyncronous updates one neuron at a time\n",
    "        if asynchronous == True:\n",
    "            i = ...  # choose a random neuron\n",
    "            self.state[i] = ...  # update the neuron\n",
    "\n",
    "        # synchronous updates all neurons at once\n",
    "        elif asynchronous == False:\n",
    "            ..."
   ]
  },
  {
   "cell_type": "code",
   "execution_count": 138,
   "metadata": {},
   "outputs": [],
   "source": [
    "HFN = HopfieldNetwork(random_patterns)"
   ]
  },
  {
   "cell_type": "markdown",
   "metadata": {},
   "source": [
    "## Exercise 6.4 \n",
    "Implement two new methods: 'get_similarities' and 'get_energy'. You just need to complete the new methods inserted below, read the initial comment to better understand what you have to do.\n"
   ]
  },
  {
   "cell_type": "code",
   "execution_count": 143,
   "metadata": {},
   "outputs": [],
   "source": [
    "class HopfieldNetwork:\n",
    "    \"\"\"Base class for our Hopfield Network (Modern) Hopfield Network\"\"\"\n",
    "\n",
    "    def __init__(self, patterns_dict):\n",
    "        \"\"\"Initialises the Hopfield network with a set of patterns.\"\"\"\n",
    "\n",
    "\n",
    "        #\n",
    "        #\n",
    "        # HERE YOU JUST COPY THE CODE YOU WROTE ABOVE\n",
    "        #\n",
    "        #\n",
    "        \n",
    "        return\n",
    "\n",
    "    # =================== INITIALISE AND UPDATE NETWORK STATE  ======================\n",
    "    def set_state(self, state=None, random=False):\n",
    "        #\n",
    "        #\n",
    "        # HERE YOU JUST COPY THE CODE YOU WROTE ABOVE\n",
    "        #\n",
    "        #\n",
    "\n",
    "    def update_state(self, asynchronous=True):\n",
    "        #\n",
    "        #\n",
    "        # HERE YOU JUST COPY THE CODE YOU WROTE ABOVE\n",
    "        #\n",
    "        #\n",
    "\n",
    "    def get_similarities(self, state=None):\n",
    "        \"\"\"Compares the state (defaults to the current state of the network to all stored patterns and returns a measure of similarity between the current state and each stored pattern.\n",
    "        This measure is taken as cos(theta) where theta is the angle between the current state vector and the stored pattern vector in N-D space. \n",
    "        You basically perform a dot product between your state and each one of the stored patterns, divided by the norm of your state and by the norm of the stored pattern.\n",
    "        \"\"\"\n",
    "        state = ...\n",
    "        return ...\n",
    "\n",
    "    def get_energy(self, state=None):\n",
    "        \"\"\"Returns the energy of the network at a given state\"\"\"\n",
    "        state = ...\n",
    "        return ..."
   ]
  },
  {
   "cell_type": "markdown",
   "metadata": {},
   "source": [
    "## Exercise 6.5\n",
    "Let's define a new method 'save_history' which saves some info inside a new variable called 'history'. \n",
    "This history must be updated, so you need to implement new lines also in other methods: 'set_state'and 'update_state'."
   ]
  },
  {
   "cell_type": "code",
   "execution_count": 146,
   "metadata": {},
   "outputs": [],
   "source": [
    "class HopfieldNetwork:\n",
    "    \"\"\"Base class for our Hopfield Network (Modern) Hopfield Network\"\"\"\n",
    "\n",
    "    def __init__(self, patterns_dict):\n",
    "\n",
    "        #\n",
    "        #\n",
    "        # HERE YOU JUST COPY THE CODE YOU WROTE ABOVE\n",
    "        #\n",
    "        #\n",
    "        \n",
    "        # Initialises a history dictionary\n",
    "        self.history = {\"state\": [], \"similarities\": [], \"energy\": []}\n",
    "\n",
    "        return\n",
    "\n",
    "    # =================== INITIALISE AND UPDATE NETWORK STATE  ======================\n",
    "    def set_state(self, state=None, random=False):\n",
    "        #\n",
    "        #\n",
    "        # HERE YOU JUST COPY THE CODE YOU WROTE ABOVE\n",
    "        #\n",
    "        #\n",
    "        self.save_history()\n",
    "\n",
    "    def update_state(self, asynchronous=True):\n",
    "        #\n",
    "        #\n",
    "        # HERE YOU JUST COPY THE CODE YOU WROTE ABOVE\n",
    "        #\n",
    "        #\n",
    "\n",
    "        self.save_history()  # this saves the history of the network so we can analyse it later once it's all been done\n",
    "\n",
    "    # =================== ANALYSIS AND HISTORY FUNCTIONS ======================\n",
    "    def save_history(self):\n",
    "        \"\"\"Calculates energy and similarites then saves everything to the history of the Hopfield network\"\"\"\n",
    "        self.similarities = ...\n",
    "        self.energy = ...\n",
    "\n",
    "        \"\"\"Now save the state, the similarities and the energy inside the new 'history variable' defined in the constructor\"\"\"\n",
    "        ...\n",
    "        ...\n",
    "        ...\n",
    "\n",
    "    def get_similarities(self, state=None):\n",
    "        #\n",
    "        #\n",
    "        # HERE YOU JUST COPY THE CODE YOU WROTE ABOVE\n",
    "        #\n",
    "        #\n",
    "\n",
    "\n",
    "    def get_energy(self, state=None):\n",
    "        #\n",
    "        #\n",
    "        # HERE YOU JUST COPY THE CODE YOU WROTE ABOVE\n",
    "        #\n",
    "        #\n"
   ]
  },
  {
   "cell_type": "markdown",
   "metadata": {},
   "source": [
    "## Exercise 6.6\n",
    "We are almost done creating our class! Let's add just a few methods to visualise the results. In the file 'utils.py' you'll find three functions already implemented, so you do not need to write the code yourself. You can import those functions and use them to define three new methods for your class. "
   ]
  },
  {
   "cell_type": "code",
   "execution_count": 149,
   "metadata": {},
   "outputs": [],
   "source": [
    "#### IMPORT THE FUCTIONS DEFINED IN 'utils.py' ####\n",
    "\n",
    "from utils import * "
   ]
  },
  {
   "cell_type": "code",
   "execution_count": 151,
   "metadata": {},
   "outputs": [],
   "source": [
    "class HopfieldNetwork:\n",
    "    \"\"\"Base class for our Hopfield Network (Modern) Hopfield Network\"\"\"\n",
    "\n",
    "        #\n",
    "        #\n",
    "        # HERE YOU JUST COPY ALL THE CODE YOU WROTE ABOVE\n",
    "        #\n",
    "        #\n",
    "\n",
    "    # =================== PLOTTING FUNCTIONS ==============================\n",
    "    def visualise(self, steps_back=0, fig=None, ax=None, title=None):\n",
    "        \"\"\"Visualises the state of the Hopfield network n_steps back (defaults to steps_back=0, i.e. current state)\"\"\"\n",
    "        fig, ax = ...\n",
    "        return fig, ax\n",
    "\n",
    "    def plot_energy(self, n_steps=None):\n",
    "        \"\"\"Plots the energy of the Hopfield network over time. n_steps=None defaults to _all_ steps\"\"\"\n",
    "        fig, ax = ...\n",
    "        return fig, ax\n",
    "\n",
    "    def animate(self, n_steps=10, fps=10, animation_length_secs=5):\n",
    "        \"\"\"Animates the last n_steps of the Hopfield network. fps gives frames per socond of resulting animation\"\"\"\n",
    "        anim = ...\n",
    "        return anim"
   ]
  },
  {
   "cell_type": "code",
   "execution_count": 154,
   "metadata": {
    "tags": []
   },
   "outputs": [],
   "source": [
    "HFN = HopfieldNetwork(random_patterns)"
   ]
  },
  {
   "cell_type": "markdown",
   "metadata": {},
   "source": [
    "# FIXED POINTS"
   ]
  },
  {
   "cell_type": "markdown",
   "metadata": {},
   "source": [
    "## Exercise 6.7\n",
    "\n",
    "In class we proved that the stored patterns are fixed points of the dynamics, meaning that the system will evolve towards one of the stored patterns starting from any configuration. In particular, if the system is initialised as one of the stored states, it will stay in that configuration. Check if this is true by visualising the starting state and the state after several updates (apply several times the *update_state* method that you defined). You can also check that the energy of the system is constant. Use the *visualise* and *plot_energy* methods that you defined in your class."
   ]
  },
  {
   "cell_type": "code",
   "execution_count": null,
   "metadata": {
    "tags": []
   },
   "outputs": [],
   "source": [
    "pattern = ...\n",
    "\n",
    "### YOUR CODE HERE"
   ]
  },
  {
   "cell_type": "code",
   "execution_count": null,
   "metadata": {
    "tags": []
   },
   "outputs": [],
   "source": [
    "### You can also visualise the time evolution of the energy function\n",
    "\n",
    "fig, ax = HFN.plot_energy(n_steps=200)"
   ]
  },
  {
   "cell_type": "markdown",
   "metadata": {},
   "source": [
    "## Exercise 6.8\n",
    "\n",
    "Do the same but starting from a random configuration. Check that the system evolves towards one of the stored patterns and that the energy decreases until a minimum is reached."
   ]
  },
  {
   "cell_type": "code",
   "execution_count": null,
   "metadata": {},
   "outputs": [],
   "source": [
    "pattern = ...\n",
    "\n",
    "### YOUR CODE HERE "
   ]
  },
  {
   "cell_type": "code",
   "execution_count": null,
   "metadata": {},
   "outputs": [],
   "source": [
    "fig, ax = HFN.plot_energy(n_steps=200)"
   ]
  },
  {
   "cell_type": "markdown",
   "metadata": {},
   "source": [
    "# IMAGE RECOGNITION"
   ]
  },
  {
   "cell_type": "markdown",
   "metadata": {},
   "source": [
    "## Exercise 6.9\n",
    "\n",
    "One of the applications of the Hopfield Network is image recognition. By starting from a pattern which is 'similar' to one of the stored ones, the system should evolve towards that state; it is essentially 'recognising' the picture. Try to add some 'noise' to one of the stored patterns and then use this noisy pattern as the starting state. Check that the network correctly evolves towards the right pattern. At what level of noise the network starts to fail? "
   ]
  },
  {
   "cell_type": "code",
   "execution_count": null,
   "metadata": {},
   "outputs": [],
   "source": [
    "pattern_to_start = ...\n",
    "X = 20 # percentage of bits to flip \n",
    "\n",
    "#add some noise to the starting pattern\n",
    "noisy_state = ...\n",
    "\n",
    "#reinitialise the state of the network, evolve it for several steps and then visualise \n",
    "\n",
    "### YOUR CODE HERE"
   ]
  },
  {
   "cell_type": "markdown",
   "metadata": {},
   "source": [
    "## Exercise 6.10\n",
    "\n",
    "Can the Hopfield Network recognise an image if only a small part of it is provided? For instance, is it able to recognise an image if we provide only the upper left corner? To check, you first need to write a function that masks the given pattern. Complete the function below and then use it to check if the network can recognise one of the stored patterns using only one corner."
   ]
  },
  {
   "cell_type": "code",
   "execution_count": 164,
   "metadata": {},
   "outputs": [],
   "source": [
    "def apply_mask(pattern):\n",
    "    \"\"\"Masks 75% of the pattern, by setting to zero all the elements of the pattern except the top-left corner\"\"\"\n",
    "    mask = ...\n",
    "    ### YOUR CODE HERE\n",
    "    return pattern * mask"
   ]
  },
  {
   "cell_type": "code",
   "execution_count": null,
   "metadata": {
    "tags": []
   },
   "outputs": [],
   "source": [
    "pattern_to_start = ...  \n",
    "partially_masked_pattern = ...\n",
    "\n",
    "#reinitialise the state of the network, evolve it for several steps and then visualise \n",
    "\n",
    "### YOUR CODE HERE"
   ]
  },
  {
   "cell_type": "markdown",
   "metadata": {},
   "source": [
    "## Exercise 6.11 \n",
    "The stored patterns are not the only fixed points of our dynamics. Prove analytically that also the negatives of the stored patterns (defined by $-x_i^{\\mu}$) are fixed points of the dynamics. Then, check numerically the validity of this claim by starting from the negative of a stored pattern and evolving the system."
   ]
  },
  {
   "cell_type": "code",
   "execution_count": null,
   "metadata": {
    "tags": []
   },
   "outputs": [],
   "source": [
    "pattern = ...  \n",
    "\n",
    "negative_pattern = ...\n",
    "\n",
    "#reinitialise the state of the network, evolve it for several steps and then visualise \n",
    "\n",
    "### YOUR CODE HERE\n"
   ]
  },
  {
   "cell_type": "markdown",
   "metadata": {},
   "source": [
    "# Exercise 6.12 \n",
    "\n",
    "What happens if we try to initialise the network in a mixed state? For example and mix of patterns 1, 2 and 3: \n",
    "\n",
    "$$ s_i(0) := x_i^{\\textrm{mix}} = \\textrm{sgn} \\big( \\pm x_i^{(1)} \\pm x_i^{(2)} \\pm x_i^{(3)} \\big)$$\n"
   ]
  },
  {
   "cell_type": "code",
   "execution_count": null,
   "metadata": {
    "tags": []
   },
   "outputs": [],
   "source": [
    "##### define a mixed state\n",
    "mixed_state = np.sign(random_patterns['1'].flatten() - random_patterns['2'].flatten() + random_patterns['3'].flatten())\n",
    "\n",
    "#reinitialise the state of the network, evolve it for several steps and then visualise \n",
    "\n",
    "### YOUR CODE HERE"
   ]
  },
  {
   "cell_type": "markdown",
   "metadata": {},
   "source": [
    "# Exercise 6.13\n",
    "\n",
    "The Hopfield Network has a storage capacity, meaning that if the number of stored patterns is too high for the number of neurons, it will show issues in correctly retrieving the patterns. \n",
    "\n",
    "The storage capacity for a classical Hopfield Network can be estimated as $C\\approx\\frac{N}{2\\log_2 N}$.\n",
    "\n",
    "Test a Hopfield network with a number of stored patterns way higher than its capacity (for instance try to store 20 patterns with 4x4 pixels) and show that it fails in retrieving these patterns."
   ]
  },
  {
   "cell_type": "code",
   "execution_count": null,
   "metadata": {
    "tags": []
   },
   "outputs": [],
   "source": [
    "#Create 20 random patterns of size 4x4\n",
    "N_patterns = ...\n",
    "pattern_size = ...\n",
    "random_patterns_20 = ...\n",
    "\n",
    "fig, ax = plot_patterns(random_patterns_20)\n",
    "\n",
    "HFN = HopfieldNetwork(random_patterns_20)"
   ]
  },
  {
   "cell_type": "markdown",
   "metadata": {},
   "source": [
    "Not all the patterns are equally 'unstable', some of them will still act as fixed points, while other will not. Try different starting patterns among those stored and try to find a pattern which is 'stable' and one that is 'unstable'. "
   ]
  },
  {
   "cell_type": "code",
   "execution_count": null,
   "metadata": {
    "tags": []
   },
   "outputs": [],
   "source": [
    "# Try to start from all the stored patterns and find the stable or unstable ones.\n",
    "\n",
    "### YOUR CODE HERE\n"
   ]
  },
  {
   "cell_type": "markdown",
   "metadata": {},
   "source": [
    "# The Classical Hopfield Networks fails with complex patterns\n"
   ]
  },
  {
   "cell_type": "markdown",
   "metadata": {},
   "source": [
    "The network that we implemented is very good at recognising simple patterns, as long as you do not exceed the capacity of you network. But it will fail with more complex patterns."
   ]
  },
  {
   "cell_type": "markdown",
   "metadata": {},
   "source": [
    "In the next cell, we will load **more complex patterns**, namely a few sprites from the Pokemon videogames. These images are way bigger than the patterns previously used (120x112 pixels).\n",
    "\n",
    "To convert the images from the *.png* format to matrices, we'll need a package called *openCV*. If not already installed on your system, you can easily install it by running\n",
    "\n",
    "    pip install opencv-python\n",
    "\n",
    "in your terminal."
   ]
  },
  {
   "cell_type": "code",
   "execution_count": 205,
   "metadata": {},
   "outputs": [],
   "source": [
    "import cv2\n",
    "import os\n",
    "\n",
    "directory = os.fsencode(\"pokemon\")\n",
    "\n",
    "patterns = {}\n",
    "      \n",
    "for file in os.listdir(directory):\n",
    "    filename = os.fsdecode(file)\n",
    "\n",
    "    patterns[filename[:-4]] = (cv2.imread(\"pokemon/\" + filename, cv2.IMREAD_GRAYSCALE)/255)*2 - 1\n"
   ]
  },
  {
   "cell_type": "code",
   "execution_count": 207,
   "metadata": {
    "tags": []
   },
   "outputs": [],
   "source": [
    "# Initialise a new Hopfield network with the new patterns\n",
    "HFN = HopfieldNetwork(patterns)"
   ]
  },
  {
   "cell_type": "code",
   "execution_count": null,
   "metadata": {
    "tags": []
   },
   "outputs": [],
   "source": [
    "pokemon = 'charizard'\n",
    "\n",
    "HFN.set_state(patterns[pokemon].flatten()) #reinitialise the state of the network\n",
    "HFN.visualise(title=f\"Initial state {pokemon}\")\n",
    "for i in range(100):\n",
    "    HFN.update_state(asynchronous=True)\n",
    "HFN.visualise(title=f\"State after {i+1} updates\")\n",
    "\n",
    "HFN.plot_energy(n_steps = 5)"
   ]
  },
  {
   "cell_type": "markdown",
   "metadata": {},
   "source": [
    "You'll soon realize that **our Hopfield Network is not doing great with these more complex patterns**. There are probably two main reasons: the patterns are not binary (they are grayscale images, not black and white) and also they are **too correlated** , with a white/gray silhouette in the central-bottom part of the square surrounded by a large portion of black pixels.\n",
    "It's time for an upgrade..."
   ]
  },
  {
   "cell_type": "markdown",
   "metadata": {},
   "source": [
    "# Let's upgrade: Modern Hopfield Networks\n",
    "\n",
    "The performances of the Hopfield Network can be greatly improved by just modifying the energy function and the update rule. \n",
    "The new rules are:\n",
    "\n",
    "| | **Classic** | **Modern** |\n",
    "| ----------- | ----------- | ----------- |\n",
    "| **Update rule** | $ \\vec{s} \\leftarrow \\textrm{sign}\\big(\\underbrace{\\vec{x}\\vec{x}^{\\mathsf{T}}}_{\\mathsf{J}}\\vec{s}\\big)$ | $\\vec{s} \\leftarrow \\vec{x} \\textrm{softmax}(\\beta \\vec{x}^{\\mathsf{T}}\\vec{s})$ |\n",
    "| **Energy function** | $ E(\\vec{s}) = \\vec{s}^{\\mathsf{T}}\\underbrace{\\vec{x}\\vec{x}^{\\mathsf{T}}}_{\\mathsf{J}}\\vec{s}$ | $E(\\vec{s}) = -\\textrm{lse}\\big(\\vec{x}^{\\mathsf{T}}\\vec{s}\\big) + \\frac{1}{2} \\vec{s}^{\\mathsf{T}}\\vec{s}$ |\n",
    "\n",
    "where the softmax function is defined as $\\text{softmax}(\\mathbf{x})_i = \\frac{e^{x_i}}{\\sum_{j=1}^{K}e^{x_j}}$ and the log-sum-exp function is $\\text{lse}(\\mathbf{x})=\\log(\\sum_{i=0}^{K}e^{x_i})$."
   ]
  },
  {
   "cell_type": "markdown",
   "metadata": {},
   "source": [
    "# Exercise 6.14 \n",
    "\n",
    "Implement the *softmax* and *lse* functions, then complete the new class *ModernHopfieldNetwork* by defining the new energy function and update rule.\n",
    "\n",
    "Finally, test your new model on the complex patterns and show that, starting from a random pattern, the system correctly converge to one of the Pokemon sprites."
   ]
  },
  {
   "cell_type": "code",
   "execution_count": 228,
   "metadata": {},
   "outputs": [],
   "source": [
    "def softmax(x):\n",
    "    return ...\n",
    "\n",
    "def log_sum_exp(x, beta = 0.01):\n",
    "    return ..."
   ]
  },
  {
   "cell_type": "markdown",
   "metadata": {},
   "source": [
    "We want the new class to inherit all the methods from our original `HopfieldNetwork` class so we can use all the same plotting functions. Complete the *update_state* and *get_energy* methods."
   ]
  },
  {
   "cell_type": "code",
   "execution_count": 230,
   "metadata": {
    "tags": []
   },
   "outputs": [],
   "source": [
    "class ModernHopfieldNetwork(HopfieldNetwork):\n",
    "    def __init__(self,patterns,beta=0.01):\n",
    "        self.beta = ...\n",
    "        super().__init__(patterns)\n",
    "    \n",
    "    def update_state(self):\n",
    "        \"\"\"This is the ONLY difference between ModernHopfieldNetwork and HopfieldNetwork. Igt has a slightly different update rule.\n",
    "        Note the use of a softmax function to make the network dynamics more continuous\"\"\"\n",
    "\n",
    "        self.state = ...\n",
    "\n",
    "        self.similarities = self.get_similarities()\n",
    "        self.energy = self.get_energy()\n",
    "        self.save_history()\n",
    " \n",
    "    def get_energy(self,state=None):\n",
    "        state = ...\n",
    "        return ..."
   ]
  },
  {
   "cell_type": "markdown",
   "metadata": {},
   "source": [
    "**Time to test the new network!** Initialise a Modern Hopfield Network using the complex patterns we imported. Then start from a random pattern and check if the system evolves towards one of the stored patterns. You can also plot the energy."
   ]
  },
  {
   "cell_type": "code",
   "execution_count": null,
   "metadata": {
    "tags": []
   },
   "outputs": [],
   "source": [
    "MHFN = ...\n",
    "\n",
    "#reinitialise the state of the network, evolve it for several steps and then visualise \n",
    "\n",
    "### YOUR CODE HERE"
   ]
  },
  {
   "cell_type": "markdown",
   "metadata": {},
   "source": [
    "# Exercise 6.15\n",
    "\n",
    "Like you did previously with simple patterns, show that our new Hopfield Network is able to recognize images even when they are noisy or when a large portion of the image is hidden/masked.\n"
   ]
  },
  {
   "cell_type": "code",
   "execution_count": null,
   "metadata": {},
   "outputs": [],
   "source": [
    "### START WITH THE NOISY PATTERN...\n",
    "\n",
    "pattern_to_start = ...\n",
    "\n",
    "X = 30 # percentage of bits to flip \n",
    "\n",
    "noisy_pattern = ...\n",
    "\n",
    "#reinitialise the state of the network, evolve it for several steps and then visualise \n",
    "\n",
    "### YOUR CODE HERE"
   ]
  },
  {
   "cell_type": "code",
   "execution_count": null,
   "metadata": {},
   "outputs": [],
   "source": [
    "### ... NOW DO THE SAME WITH THE MASKED PATTERN\n",
    "\n",
    "pattern_to_start = ...\n",
    "\n",
    "masked_flag = ...\n",
    "\n",
    "#reinitialise the state of the network, evolve it for several steps and then visualise \n",
    "\n",
    "### YOUR CODE HERE"
   ]
  },
  {
   "cell_type": "markdown",
   "metadata": {},
   "source": [
    "# Exercise 6.16\n",
    "\n",
    "In the update function for the Modern Hopfield Network we use a scalar quantity called $\\beta$, a sort of inverse temperature.\n",
    "\n",
    "Try to evolve a random state with the Modern Hopfield Network using a very high temperature, for instance $\\beta \\leftarrow 0.001$. What do you see?\n",
    "\n",
    "If everything you did is correct, you should see that at high temperature the network evolves towards metastable states. Can you briefly explain why you see this behaviour?\n",
    "\n"
   ]
  },
  {
   "cell_type": "markdown",
   "metadata": {},
   "source": [
    "*** YOUR ANSWER HERE ***"
   ]
  },
  {
   "cell_type": "code",
   "execution_count": null,
   "metadata": {},
   "outputs": [],
   "source": []
  }
 ],
 "metadata": {
  "celltoolbar": "Tags",
  "kernelspec": {
   "display_name": "Python 3 (ipykernel)",
   "language": "python",
   "name": "python3"
  },
  "language_info": {
   "codemirror_mode": {
    "name": "ipython",
    "version": 3
   },
   "file_extension": ".py",
   "mimetype": "text/x-python",
   "name": "python",
   "nbconvert_exporter": "python",
   "pygments_lexer": "ipython3",
   "version": "3.12.4"
  }
 },
 "nbformat": 4,
 "nbformat_minor": 4
}
